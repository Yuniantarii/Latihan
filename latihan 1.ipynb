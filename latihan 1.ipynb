{
 "cells": [
  {
   "cell_type": "code",
   "execution_count": 2,
   "id": "11a5c2eb",
   "metadata": {},
   "outputs": [
    {
     "name": "stdout",
     "output_type": "stream",
     "text": [
      "50\n",
      "10000\n",
      "500000\n"
     ]
    }
   ],
   "source": [
    "mahasiswa = 50\n",
    "uang_mahasiswa = 10000\n",
    "print(mahasiswa)\n",
    "print(uang_mahasiswa)\n",
    "print(mahasiswa*uang_mahasiswa)"
   ]
  },
  {
   "cell_type": "code",
   "execution_count": 9,
   "id": "ce603692",
   "metadata": {},
   "outputs": [
    {
     "name": "stdout",
     "output_type": "stream",
     "text": [
      "tiga belas maret\n"
     ]
    }
   ],
   "source": [
    "tanggal_lahir = 'tiga belas'\n",
    "bulan_lahir = 'maret'\n",
    "print(tanggal_lahir+ ' ' +bulan_lahir)"
   ]
  },
  {
   "cell_type": "code",
   "execution_count": 1,
   "id": "760e8e81",
   "metadata": {},
   "outputs": [
    {
     "name": "stdout",
     "output_type": "stream",
     "text": [
      "Input nama anda:budi\n",
      "Selamat Pagi budi\n"
     ]
    }
   ],
   "source": [
    "nama = input(\"Input nama anda:\")\n",
    "print(\"Selamat Pagi\" + \" \" + nama)"
   ]
  },
  {
   "cell_type": "code",
   "execution_count": 1,
   "id": "56e8a05d",
   "metadata": {},
   "outputs": [
    {
     "name": "stdout",
     "output_type": "stream",
     "text": [
      "Input nama anda:budi\n",
      "Selamat Pagi budi\n",
      "Input jurusan anda:matematika\n",
      "kuliah jurusan matematika\n"
     ]
    }
   ],
   "source": [
    "nama = input(\"Input nama anda:\")\n",
    "print(\"Selamat Pagi\" + \" \" + nama)\n",
    "jurusan = input(\"Input jurusan anda:\")\n",
    "print(\"kuliah jurusan\" + \" \" + jurusan)"
   ]
  },
  {
   "cell_type": "code",
   "execution_count": null,
   "id": "da1a5609",
   "metadata": {},
   "outputs": [],
   "source": []
  },
  {
   "cell_type": "markdown",
   "id": "eda9c603",
   "metadata": {},
   "source": []
  },
  {
   "cell_type": "code",
   "execution_count": null,
   "id": "4ed0ee35",
   "metadata": {},
   "outputs": [],
   "source": []
  }
 ],
 "metadata": {
  "kernelspec": {
   "display_name": "Python 3 (ipykernel)",
   "language": "python",
   "name": "python3"
  },
  "language_info": {
   "codemirror_mode": {
    "name": "ipython",
    "version": 3
   },
   "file_extension": ".py",
   "mimetype": "text/x-python",
   "name": "python",
   "nbconvert_exporter": "python",
   "pygments_lexer": "ipython3",
   "version": "3.9.13"
  }
 },
 "nbformat": 4,
 "nbformat_minor": 5
}
