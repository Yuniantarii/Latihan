{
 "cells": [
  {
   "cell_type": "markdown",
   "id": "fda81a7d",
   "metadata": {},
   "source": [
    "# 5.5 String Index"
   ]
  },
  {
   "cell_type": "code",
   "execution_count": 32,
   "id": "43602467",
   "metadata": {},
   "outputs": [
    {
     "name": "stdout",
     "output_type": "stream",
     "text": [
      "SAYA\n"
     ]
    }
   ],
   "source": [
    "print (Budi[0:4])\n",
    "#S adalah urutan ke 0\n",
    "#I adalah urutan ke 14, bisa ditulis -1 ketika data dihitung dari belakang\n",
    "#harus dilebih kan satu ketika ingin menghasilkan kata SAYA, jangan [0:3] tapi lebihkan 1 jadi [0:4]"
   ]
  },
  {
   "cell_type": "code",
   "execution_count": 7,
   "id": "7608a772",
   "metadata": {},
   "outputs": [
    {
     "name": "stdout",
     "output_type": "stream",
     "text": [
      " MAKAN NAS\n"
     ]
    }
   ],
   "source": [
    "print(Budi[4:-1])\n",
    "#urutan ke 4 adalah spasi\n",
    "#urutan ke -1 adalah I, jadi I tidak ikut hanya sampai S"
   ]
  },
  {
   "cell_type": "code",
   "execution_count": 11,
   "id": "df5d750e",
   "metadata": {},
   "outputs": [
    {
     "name": "stdout",
     "output_type": "stream",
     "text": [
      "S\n"
     ]
    }
   ],
   "source": [
    "print(Budi[:1])"
   ]
  },
  {
   "cell_type": "code",
   "execution_count": 12,
   "id": "741efeef",
   "metadata": {},
   "outputs": [
    {
     "name": "stdout",
     "output_type": "stream",
     "text": [
      "SAYA MAKAN NASI\n"
     ]
    }
   ],
   "source": [
    "print(Budi[:])"
   ]
  },
  {
   "cell_type": "code",
   "execution_count": 15,
   "id": "f162a3ce",
   "metadata": {},
   "outputs": [
    {
     "name": "stdout",
     "output_type": "stream",
     "text": [
      " AA A\n"
     ]
    }
   ],
   "source": [
    "print(Budi[4:-1:2])\n",
    "#4:-1:2, 2 adalah loncatan\n",
    "#urutan ke empat adalah spasi\n",
    "#urutan ke -1 dihitung dari belakang yaitu I tapi I tidak ikut, maka hanya sampai S, batasnya S\n",
    "#perhatikan spasi\n",
    "#setiap loncat 2 hasilnya menjadi ' AA A'"
   ]
  },
  {
   "cell_type": "markdown",
   "id": "dc7d53b0",
   "metadata": {},
   "source": [
    "# 5.6 string methods"
   ]
  },
  {
   "cell_type": "code",
   "execution_count": 17,
   "id": "eed0cb86",
   "metadata": {},
   "outputs": [],
   "source": [
    "judul = 'Bali Pulau Dewata'"
   ]
  },
  {
   "cell_type": "code",
   "execution_count": 19,
   "id": "f14ad915",
   "metadata": {},
   "outputs": [
    {
     "name": "stdout",
     "output_type": "stream",
     "text": [
      "17\n"
     ]
    }
   ],
   "source": [
    "print(len(judul))\n",
    "#len adala untuk menghitung jumlah kata pada kalimat\n",
    "#spasi juga dihitung sebagai urutan kata"
   ]
  },
  {
   "cell_type": "code",
   "execution_count": 20,
   "id": "ea56a323",
   "metadata": {},
   "outputs": [
    {
     "data": {
      "text/plain": [
       "'BALI PULAU DEWATA'"
      ]
     },
     "execution_count": 20,
     "metadata": {},
     "output_type": "execute_result"
    }
   ],
   "source": [
    "judul.upper()\n",
    "#upper untuk mengubah judul menjadi huruf kapital semua"
   ]
  },
  {
   "cell_type": "code",
   "execution_count": 21,
   "id": "d7c7956a",
   "metadata": {},
   "outputs": [
    {
     "data": {
      "text/plain": [
       "'bali pulau dewata'"
      ]
     },
     "execution_count": 21,
     "metadata": {},
     "output_type": "execute_result"
    }
   ],
   "source": [
    "judul.lower()\n",
    "#lowwer untuk mengubah tulisan judul menjadi huruf kecil semua"
   ]
  },
  {
   "cell_type": "code",
   "execution_count": 23,
   "id": "8391aefb",
   "metadata": {},
   "outputs": [
    {
     "data": {
      "text/plain": [
       "11"
      ]
     },
     "execution_count": 23,
     "metadata": {},
     "output_type": "execute_result"
    }
   ],
   "source": [
    "judul.find('Dewata')\n",
    "#find untuk mencari huruf pertama dari kata yang kita cari\n",
    "#Dewata adalah ketiga, huruf pertama dari kata Dewata adalah D, D adalah urutan ke 11"
   ]
  },
  {
   "cell_type": "code",
   "execution_count": 25,
   "id": "64b36bc2",
   "metadata": {},
   "outputs": [
    {
     "data": {
      "text/plain": [
       "-1"
      ]
     },
     "execution_count": 25,
     "metadata": {},
     "output_type": "execute_result"
    }
   ],
   "source": [
    "judul.find('bali')\n",
    "#menghasilkan -1 karena kata bali tidak ada dalam judul, yang ada adalah Bali dimana B adalah huruf besar"
   ]
  },
  {
   "cell_type": "code",
   "execution_count": 27,
   "id": "6835fd8d",
   "metadata": {},
   "outputs": [
    {
     "data": {
      "text/plain": [
       "'Jawa Pulau Dewata'"
      ]
     },
     "execution_count": 27,
     "metadata": {},
     "output_type": "execute_result"
    }
   ],
   "source": [
    "judul.replace('Bali', 'Jawa')\n",
    "#replace untuk mengganti kata judul dengan kata lain"
   ]
  },
  {
   "cell_type": "code",
   "execution_count": 28,
   "id": "21f0a817",
   "metadata": {},
   "outputs": [
    {
     "data": {
      "text/plain": [
       "'Bali Pulau Dewata'"
      ]
     },
     "execution_count": 28,
     "metadata": {},
     "output_type": "execute_result"
    }
   ],
   "source": [
    "judul.replace('bali', 'Jawa')\n",
    "#tidak bisa diganti karena kata bali tidak ada dalam judul"
   ]
  },
  {
   "cell_type": "code",
   "execution_count": 30,
   "id": "41a0e543",
   "metadata": {},
   "outputs": [
    {
     "name": "stdout",
     "output_type": "stream",
     "text": [
      "True\n"
     ]
    }
   ],
   "source": [
    "print('Dewata' in judul)\n",
    "#untuk mengecek kebenaran ada atau tidak katanya di dalam judul"
   ]
  },
  {
   "cell_type": "code",
   "execution_count": 31,
   "id": "2783bab2",
   "metadata": {},
   "outputs": [
    {
     "name": "stdout",
     "output_type": "stream",
     "text": [
      "False\n"
     ]
    }
   ],
   "source": [
    "print('dewata' in judul)"
   ]
  },
  {
   "cell_type": "markdown",
   "id": "1385f975",
   "metadata": {},
   "source": [
    "# Operasi Matematika di Python"
   ]
  },
  {
   "cell_type": "code",
   "execution_count": 33,
   "id": "430b8eec",
   "metadata": {
    "scrolled": true
   },
   "outputs": [
    {
     "name": "stdout",
     "output_type": "stream",
     "text": [
      "7\n",
      "-1\n",
      "6\n",
      "2.3333333333333335\n",
      "2\n",
      "1\n",
      "7\n",
      "6\n",
      "18\n"
     ]
    }
   ],
   "source": [
    "print(3+4)\n",
    "print(3-4)\n",
    "print(2*3)\n",
    "print(7/3)\n",
    "print(7//3)\n",
    "print(7%3)\n",
    "x=4\n",
    "x+=3\n",
    "print(x)\n",
    "x-=1\n",
    "print(x)\n",
    "x*=3\n",
    "print(x)"
   ]
  },
  {
   "cell_type": "markdown",
   "id": "73a15135",
   "metadata": {},
   "source": [
    "# 5.8 Operator Perbandingan di Python"
   ]
  },
  {
   "cell_type": "code",
   "execution_count": 40,
   "id": "817cb371",
   "metadata": {},
   "outputs": [
    {
     "name": "stdout",
     "output_type": "stream",
     "text": [
      "True\n",
      "True\n",
      "True\n",
      "True\n"
     ]
    }
   ],
   "source": [
    "x = 8>2\n",
    "print(x)\n",
    "x = 8 >= 2\n",
    "print (x)\n",
    "x = 8 == 8\n",
    "print(x)\n",
    "x = 8 != 2\n",
    "print(x)\n",
    "\n",
    "#== adalah artinya dengan\n",
    "#!= artinya tidak sama dengan\n",
    "\n",
    "x = 2>8\n",
    "#akan menghasilkan false"
   ]
  },
  {
   "cell_type": "code",
   "execution_count": 41,
   "id": "e731a1de",
   "metadata": {},
   "outputs": [
    {
     "name": "stdout",
     "output_type": "stream",
     "text": [
      "False\n"
     ]
    }
   ],
   "source": [
    "#coba buktikan\n",
    "x>=4 <=4\n",
    "print(x)"
   ]
  },
  {
   "cell_type": "markdown",
   "id": "7a0d718d",
   "metadata": {},
   "source": [
    "# 5.9 Operator Logika di Python"
   ]
  },
  {
   "cell_type": "code",
   "execution_count": 42,
   "id": "e6d3583c",
   "metadata": {},
   "outputs": [
    {
     "name": "stdout",
     "output_type": "stream",
     "text": [
      "True\n"
     ]
    }
   ],
   "source": [
    "buah_apel = 5\n",
    "buah_nanas = 10\n",
    "print(buah_apel > 4 and buah_nanas < 15)"
   ]
  },
  {
   "cell_type": "code",
   "execution_count": 44,
   "id": "c10dfc37",
   "metadata": {},
   "outputs": [
    {
     "name": "stdout",
     "output_type": "stream",
     "text": [
      "True\n"
     ]
    }
   ],
   "source": [
    "buah_apel = 5\n",
    "buah_nanas = 10\n",
    "print(buah_apel > 4 or buah_nanas < 15)"
   ]
  },
  {
   "cell_type": "code",
   "execution_count": 46,
   "id": "58c2ad11",
   "metadata": {},
   "outputs": [
    {
     "name": "stdout",
     "output_type": "stream",
     "text": [
      "False\n"
     ]
    }
   ],
   "source": [
    "buah_apel = 5\n",
    "buah_nanas = 10\n",
    "print(not(buah_apel > 4 and buah_nanas < 15))"
   ]
  },
  {
   "cell_type": "markdown",
   "id": "08c09c55",
   "metadata": {},
   "source": [
    "# 5.10 Operator if di Python"
   ]
  },
  {
   "cell_type": "code",
   "execution_count": 3,
   "id": "6840bf16",
   "metadata": {},
   "outputs": [
    {
     "name": "stdout",
     "output_type": "stream",
     "text": [
      "Nilai anda adalah 80\n",
      "Anda mendapatkan nilai A\n",
      "Sangat baik sekali!\n"
     ]
    }
   ],
   "source": [
    "#if dijalankan bila nilai variabel yg dijalankan adalah True,sedangkan kalau nilainya adalah False maka tidak akan dijalankan\n",
    "\n",
    "nilai = float(input(\"Nilai anda adalah \"))\n",
    "if nilai >= 80:\n",
    "    print(\"Anda mendapatkan nilai A\")\n",
    "    print(\"Sangat baik sekali!\")\n",
    "if nilai < 80 and nilai >= 70:\n",
    "    print(\"Anda mendapatkan nilai B\")\n",
    "    print(\"Tingkatkan lagi!\")\n",
    "if nilai >= 60 and nilai < 70:\n",
    "    print(\"Anda mendapatkan nilai C\")\n",
    "    print(\"Sudah cukup\")\n",
    "if nilai >= 50 and nilai < 60:\n",
    "    print(\"Anda mendapatkan nilai D\")\n",
    "    print(\"Tidak lulus\")\n",
    "if nilai < 50:\n",
    "    print(\"Anda mendapatkan nilai E\")\n",
    "    print(\"Tidak Lulus\")\n",
    "    \n"
   ]
  },
  {
   "cell_type": "code",
   "execution_count": null,
   "id": "3975e83d",
   "metadata": {},
   "outputs": [],
   "source": []
  },
  {
   "cell_type": "code",
   "execution_count": null,
   "id": "cf93201e",
   "metadata": {},
   "outputs": [],
   "source": []
  }
 ],
 "metadata": {
  "kernelspec": {
   "display_name": "Python 3 (ipykernel)",
   "language": "python",
   "name": "python3"
  },
  "language_info": {
   "codemirror_mode": {
    "name": "ipython",
    "version": 3
   },
   "file_extension": ".py",
   "mimetype": "text/x-python",
   "name": "python",
   "nbconvert_exporter": "python",
   "pygments_lexer": "ipython3",
   "version": "3.9.13"
  }
 },
 "nbformat": 4,
 "nbformat_minor": 5
}
