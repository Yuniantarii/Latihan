{
 "cells": [
  {
   "cell_type": "markdown",
   "id": "05010084",
   "metadata": {},
   "source": [
    "# List 2 Dimensi"
   ]
  },
  {
   "cell_type": "raw",
   "id": "dfa4da58",
   "metadata": {},
   "source": [
    "List 2 dimensi pada umumnya adalah menempatkan sebuah list di dalam list. Penggambarannya seperti sebuah matrik. "
   ]
  },
  {
   "cell_type": "code",
   "execution_count": 8,
   "id": "94f57001",
   "metadata": {},
   "outputs": [
    {
     "name": "stdout",
     "output_type": "stream",
     "text": [
      "[[1, 2, 3, 4], [5, 6, 7, 8], [9, 10, 11, 12], [13, 14, 15, 16]]\n"
     ]
    }
   ],
   "source": [
    "matrik = [\n",
    "    [1,2,3,4],\n",
    "    [5,6,7,8],\n",
    "    [9,10,11,12],\n",
    "    [13,14,15,16]\n",
    "]\n",
    "print(matrik)\n",
    "\n",
    "#harusnya\n",
    "#    [[1,2,3,4],\n",
    "#    [5,6,7,8],\n",
    "#    [9,10,11,12],\n",
    "#    [13,14,15,16]]\n",
    "#di python ketika di print terlihat seperti menjadi vektor dalam vektor\n",
    "#padahal artinya adalah matrik, di python tidak terlihat bentuk matrik nya"
   ]
  },
  {
   "cell_type": "code",
   "execution_count": 9,
   "id": "18d07098",
   "metadata": {
    "scrolled": true
   },
   "outputs": [
    {
     "data": {
      "text/plain": [
       "[5, 6, 7, 8]"
      ]
     },
     "execution_count": 9,
     "metadata": {},
     "output_type": "execute_result"
    }
   ],
   "source": [
    "matrik[1]\n",
    "#memanggil baris matrik ke-2\n",
    "#memperhatikan urutan\n",
    "#urutan baris pertama adalah ke-0"
   ]
  },
  {
   "cell_type": "code",
   "execution_count": 10,
   "id": "3b53b40f",
   "metadata": {},
   "outputs": [
    {
     "data": {
      "text/plain": [
       "7"
      ]
     },
     "execution_count": 10,
     "metadata": {},
     "output_type": "execute_result"
    }
   ],
   "source": [
    "matrik[1][2]\n",
    "#artinya memanggil baris ke-2 kolom ke-3"
   ]
  },
  {
   "cell_type": "code",
   "execution_count": 11,
   "id": "22a388e3",
   "metadata": {},
   "outputs": [
    {
     "name": "stdout",
     "output_type": "stream",
     "text": [
      "100\n"
     ]
    }
   ],
   "source": [
    "matrik[1][2]=100\n",
    "print(matrik[1][2])\n",
    "#mengganti nilai matrik\n",
    "#misalnya matrik[1][2] diganti dengan 100, maka 7 diganti menjadi 100"
   ]
  },
  {
   "cell_type": "code",
   "execution_count": 12,
   "id": "56613f21",
   "metadata": {},
   "outputs": [
    {
     "data": {
      "text/plain": [
       "[[1, 2, 3, 4], [5, 6, 100, 8], [9, 10, 11, 12], [13, 14, 15, 16]]"
      ]
     },
     "execution_count": 12,
     "metadata": {},
     "output_type": "execute_result"
    }
   ],
   "source": [
    "matrik"
   ]
  },
  {
   "cell_type": "code",
   "execution_count": 16,
   "id": "867a9265",
   "metadata": {},
   "outputs": [
    {
     "name": "stdout",
     "output_type": "stream",
     "text": [
      "[1, 2, 3, 4]\n",
      "1\n",
      "2\n",
      "3\n",
      "4\n",
      "[5, 6, 100, 8]\n",
      "5\n",
      "6\n",
      "100\n",
      "8\n",
      "[9, 10, 11, 12]\n",
      "9\n",
      "10\n",
      "11\n",
      "12\n",
      "[13, 14, 15, 16]\n",
      "13\n",
      "14\n",
      "15\n",
      "16\n",
      "----------------------------------------------------\n",
      "[1, 2, 3, 4]\n",
      "[5, 6, 100, 8]\n",
      "[9, 10, 11, 12]\n",
      "[13, 14, 15, 16]\n",
      "13\n",
      "14\n",
      "15\n",
      "16\n"
     ]
    }
   ],
   "source": [
    "for baris in matrik:\n",
    "    print(baris)\n",
    "    #print pengulangan yang pertama akan tercetak baris masing-masing matrik\n",
    "    for kolom in baris:\n",
    "        print(kolom)\n",
    "        #print pengulangan yang kedua, akan diproses percetakan kolom di baris, jadi elemen-elemen kolomnya akan di print\n",
    "#perhatikan for yang pertama dan for yang kedua memiliki arti yang beda\n",
    "#jika for yang kedua diletakkan sejajar dengan for yang pertama maka tidak akan tercetak elemen-elemen kolomnya, karena yang diproses adalah 'baris in matriik'\n",
    "print('----------------------------------------------------')\n",
    "#coba buat for yang kedua sejajar dengan for pertama\n",
    "for baris in matrik:\n",
    "    print(baris)\n",
    "for kolom in baris:\n",
    "        print(kolom)"
   ]
  },
  {
   "cell_type": "markdown",
   "id": "a20b8638",
   "metadata": {},
   "source": [
    "# Tuples"
   ]
  },
  {
   "cell_type": "raw",
   "id": "9e88b488",
   "metadata": {},
   "source": [
    "Tuples mirip dengan list, akan tetapi tuples tidak dapat dirubah isinya. Jika kita memiliki data yang tidak ingin dirubah isinya, kita gunakan tuples, sedangkan jika datanya masih ingin dimanipulasi kedepannya, gunakan list."
   ]
  },
  {
   "cell_type": "code",
   "execution_count": 2,
   "id": "1d9057a6",
   "metadata": {},
   "outputs": [],
   "source": [
    "angka = (0,1,1,3,4,5)"
   ]
  },
  {
   "cell_type": "code",
   "execution_count": 5,
   "id": "5b066969",
   "metadata": {},
   "outputs": [
    {
     "name": "stdout",
     "output_type": "stream",
     "text": [
      "0\n"
     ]
    }
   ],
   "source": [
    "print(angka[0])\n",
    "#elemen urutan ke-0 dalam 'angka' adalah '0'\n",
    "#sempat error karena saya restart kernel, ternyata jika ingin restart kernel harus direstart dari pendeskripsian 'angka' yang paling awal karena In harus lebih besar dari In sebelumnya"
   ]
  },
  {
   "cell_type": "code",
   "execution_count": 6,
   "id": "dfaf4d8a",
   "metadata": {},
   "outputs": [
    {
     "name": "stdout",
     "output_type": "stream",
     "text": [
      "(0, 1, 1)\n"
     ]
    }
   ],
   "source": [
    "print(angka[0:3])\n",
    "#akan di print urutan ke-0 sampai ke-3"
   ]
  },
  {
   "cell_type": "code",
   "execution_count": 7,
   "id": "fa0ae504",
   "metadata": {},
   "outputs": [
    {
     "name": "stdout",
     "output_type": "stream",
     "text": [
      "0\n",
      "1\n",
      "1\n"
     ]
    }
   ],
   "source": [
    "for isi in angka[0:3]:\n",
    "    print(isi)\n",
    "#akan diprint isi dari urutan ke-0 sampai ke-3"
   ]
  },
  {
   "cell_type": "code",
   "execution_count": 11,
   "id": "837baea3",
   "metadata": {},
   "outputs": [
    {
     "ename": "TypeError",
     "evalue": "'tuple' object does not support item assignment",
     "output_type": "error",
     "traceback": [
      "\u001b[1;31m---------------------------------------------------------------------------\u001b[0m",
      "\u001b[1;31mTypeError\u001b[0m                                 Traceback (most recent call last)",
      "\u001b[1;32m~\\AppData\\Local\\Temp\\ipykernel_9636\\2754255709.py\u001b[0m in \u001b[0;36m<module>\u001b[1;34m\u001b[0m\n\u001b[1;32m----> 1\u001b[1;33m \u001b[0mangka\u001b[0m\u001b[1;33m[\u001b[0m\u001b[1;36m1\u001b[0m\u001b[1;33m]\u001b[0m\u001b[1;33m=\u001b[0m\u001b[1;36m10\u001b[0m\u001b[1;33m\u001b[0m\u001b[1;33m\u001b[0m\u001b[0m\n\u001b[0m\u001b[0;32m      2\u001b[0m \u001b[1;31m#sesuai definisi tupples tidak bisa diganti\u001b[0m\u001b[1;33m\u001b[0m\u001b[1;33m\u001b[0m\u001b[0m\n\u001b[0;32m      3\u001b[0m \u001b[1;31m#maka akan error\u001b[0m\u001b[1;33m\u001b[0m\u001b[1;33m\u001b[0m\u001b[0m\n\u001b[0;32m      4\u001b[0m \u001b[1;31m#jika berhasil maka tupples bermasalah\u001b[0m\u001b[1;33m\u001b[0m\u001b[1;33m\u001b[0m\u001b[0m\n",
      "\u001b[1;31mTypeError\u001b[0m: 'tuple' object does not support item assignment"
     ]
    }
   ],
   "source": [
    "angka[1]=10\n",
    "#sesuai definisi tupples tidak bisa diganti\n",
    "#maka akan error\n",
    "#jika berhasil maka tupples bermasalah"
   ]
  },
  {
   "cell_type": "code",
   "execution_count": 8,
   "id": "925cbc0f",
   "metadata": {
    "scrolled": true
   },
   "outputs": [
    {
     "ename": "AttributeError",
     "evalue": "'tuple' object has no attribute 'append'",
     "output_type": "error",
     "traceback": [
      "\u001b[1;31m---------------------------------------------------------------------------\u001b[0m",
      "\u001b[1;31mAttributeError\u001b[0m                            Traceback (most recent call last)",
      "\u001b[1;32m~\\AppData\\Local\\Temp\\ipykernel_9636\\3446479752.py\u001b[0m in \u001b[0;36m<module>\u001b[1;34m\u001b[0m\n\u001b[1;32m----> 1\u001b[1;33m \u001b[0mangka\u001b[0m\u001b[1;33m.\u001b[0m\u001b[0mappend\u001b[0m\u001b[1;33m(\u001b[0m\u001b[1;36m10\u001b[0m\u001b[1;33m)\u001b[0m\u001b[1;33m\u001b[0m\u001b[1;33m\u001b[0m\u001b[0m\n\u001b[0m\u001b[0;32m      2\u001b[0m \u001b[1;31m#sesuai definisi tupples tidak bisa diganti\u001b[0m\u001b[1;33m\u001b[0m\u001b[1;33m\u001b[0m\u001b[0m\n\u001b[0;32m      3\u001b[0m \u001b[1;31m#maka akan error\u001b[0m\u001b[1;33m\u001b[0m\u001b[1;33m\u001b[0m\u001b[0m\n",
      "\u001b[1;31mAttributeError\u001b[0m: 'tuple' object has no attribute 'append'"
     ]
    }
   ],
   "source": [
    "angka.append(10)\n",
    "#sesuai definisi tupples tidak bisa diganti\n",
    "#maka akan error"
   ]
  },
  {
   "cell_type": "code",
   "execution_count": 12,
   "id": "b8abe252",
   "metadata": {},
   "outputs": [
    {
     "ename": "AttributeError",
     "evalue": "'tuple' object has no attribute 'remove'",
     "output_type": "error",
     "traceback": [
      "\u001b[1;31m---------------------------------------------------------------------------\u001b[0m",
      "\u001b[1;31mAttributeError\u001b[0m                            Traceback (most recent call last)",
      "\u001b[1;32m~\\AppData\\Local\\Temp\\ipykernel_9636\\1228851945.py\u001b[0m in \u001b[0;36m<module>\u001b[1;34m\u001b[0m\n\u001b[1;32m----> 1\u001b[1;33m \u001b[0mangka\u001b[0m\u001b[1;33m.\u001b[0m\u001b[0mremove\u001b[0m\u001b[1;33m(\u001b[0m\u001b[1;36m5\u001b[0m\u001b[1;33m)\u001b[0m\u001b[1;33m\u001b[0m\u001b[1;33m\u001b[0m\u001b[0m\n\u001b[0m\u001b[0;32m      2\u001b[0m \u001b[1;31m#sesuai definisi tupples tidak bisa diganti\u001b[0m\u001b[1;33m\u001b[0m\u001b[1;33m\u001b[0m\u001b[0m\n\u001b[0;32m      3\u001b[0m \u001b[1;31m#maka akan error\u001b[0m\u001b[1;33m\u001b[0m\u001b[1;33m\u001b[0m\u001b[0m\n",
      "\u001b[1;31mAttributeError\u001b[0m: 'tuple' object has no attribute 'remove'"
     ]
    }
   ],
   "source": [
    "angka.remove(5)\n",
    "#sesuai definisi tupples tidak bisa diganti\n",
    "#maka akan error"
   ]
  },
  {
   "cell_type": "code",
   "execution_count": 14,
   "id": "c3021a3b",
   "metadata": {},
   "outputs": [],
   "source": [
    "angka = (0,1,1,3,4,5)"
   ]
  },
  {
   "cell_type": "code",
   "execution_count": 18,
   "id": "0235dbd4",
   "metadata": {
    "scrolled": true
   },
   "outputs": [
    {
     "data": {
      "text/plain": [
       "2"
      ]
     },
     "execution_count": 18,
     "metadata": {},
     "output_type": "execute_result"
    }
   ],
   "source": [
    "angka.count(1)\n",
    "#count untuk menghitung jumlah angka\n",
    "#jumlah angka 1 ada 2"
   ]
  },
  {
   "cell_type": "code",
   "execution_count": 19,
   "id": "0007449a",
   "metadata": {},
   "outputs": [
    {
     "data": {
      "text/plain": [
       "0"
      ]
     },
     "execution_count": 19,
     "metadata": {},
     "output_type": "execute_result"
    }
   ],
   "source": [
    "angka.count(2)\n",
    "#count untuk menghitung jumlah angka\n",
    "#jumlah angka 2 ada 0"
   ]
  },
  {
   "cell_type": "code",
   "execution_count": 21,
   "id": "464e3aba",
   "metadata": {},
   "outputs": [
    {
     "data": {
      "text/plain": [
       "1"
      ]
     },
     "execution_count": 21,
     "metadata": {},
     "output_type": "execute_result"
    }
   ],
   "source": [
    "angka.count(4)\n",
    "#count untuk menghitung jumlah angka\n",
    "#jumlah angka 4 ada 1"
   ]
  },
  {
   "cell_type": "code",
   "execution_count": 36,
   "id": "25d41b1f",
   "metadata": {},
   "outputs": [
    {
     "data": {
      "text/plain": [
       "2"
      ]
     },
     "execution_count": 36,
     "metadata": {},
     "output_type": "execute_result"
    }
   ],
   "source": [
    "angka.index(3)\n",
    "#yang digunakan adalah elemennya\n",
    "#elemen '3' adalah urutan ketiga\n",
    "#yang dicari adalah urutannya"
   ]
  },
  {
   "cell_type": "code",
   "execution_count": 37,
   "id": "e8c81fad",
   "metadata": {},
   "outputs": [
    {
     "data": {
      "text/plain": [
       "1"
      ]
     },
     "execution_count": 37,
     "metadata": {},
     "output_type": "execute_result"
    }
   ],
   "source": [
    "angka.index(4)\n",
    "#yang digunakan adalah elemennya\n",
    "#elemen '4' adalah urutan ke-4\n",
    "#yang dicari adalah urutannya"
   ]
  },
  {
   "cell_type": "code",
   "execution_count": 28,
   "id": "02618f49",
   "metadata": {
    "scrolled": true
   },
   "outputs": [
    {
     "ename": "ValueError",
     "evalue": "tuple.index(x): x not in tuple",
     "output_type": "error",
     "traceback": [
      "\u001b[1;31m---------------------------------------------------------------------------\u001b[0m",
      "\u001b[1;31mValueError\u001b[0m                                Traceback (most recent call last)",
      "\u001b[1;32m~\\AppData\\Local\\Temp\\ipykernel_9636\\1811526877.py\u001b[0m in \u001b[0;36m<module>\u001b[1;34m\u001b[0m\n\u001b[1;32m----> 1\u001b[1;33m \u001b[0mangka\u001b[0m\u001b[1;33m.\u001b[0m\u001b[0mindex\u001b[0m\u001b[1;33m(\u001b[0m\u001b[1;36m2\u001b[0m\u001b[1;33m)\u001b[0m\u001b[1;33m\u001b[0m\u001b[1;33m\u001b[0m\u001b[0m\n\u001b[0m",
      "\u001b[1;31mValueError\u001b[0m: tuple.index(x): x not in tuple"
     ]
    }
   ],
   "source": [
    "angka.index(2)\n",
    "#eror karena 2 tidak ada di tuple\n",
    "#perhatikan, ini adalah mencari urutan dari elemen, bukan mencari elemen dari urutan"
   ]
  },
  {
   "cell_type": "code",
   "execution_count": 29,
   "id": "8d384b19",
   "metadata": {},
   "outputs": [],
   "source": [
    "#contoh lagi\n",
    "angka = (5,4,3,2,1)"
   ]
  },
  {
   "cell_type": "code",
   "execution_count": 33,
   "id": "331dff0e",
   "metadata": {},
   "outputs": [
    {
     "data": {
      "text/plain": [
       "0"
      ]
     },
     "execution_count": 33,
     "metadata": {},
     "output_type": "execute_result"
    }
   ],
   "source": [
    "angka.index(5)\n",
    "#elemen '5' adalah urutan ke-0"
   ]
  },
  {
   "cell_type": "code",
   "execution_count": 35,
   "id": "9473d82e",
   "metadata": {},
   "outputs": [
    {
     "data": {
      "text/plain": [
       "1"
      ]
     },
     "execution_count": 35,
     "metadata": {},
     "output_type": "execute_result"
    }
   ],
   "source": [
    "angka.index(4)\n",
    "#elemen '4' adalah urutan ke-1"
   ]
  },
  {
   "cell_type": "markdown",
   "id": "91acebe8",
   "metadata": {},
   "source": [
    "# Dictionaries"
   ]
  },
  {
   "cell_type": "raw",
   "id": "c8f956ee",
   "metadata": {},
   "source": [
    "Dictionaries digunakan jika data nya terkait satu sama lain. Misalnya data seseorang yang terdiri dari umur, nama, tanggal lahir merupakan satu kesatuan data yang bersumber dari orang tersebut."
   ]
  },
  {
   "cell_type": "code",
   "execution_count": 1,
   "id": "e366230f",
   "metadata": {},
   "outputs": [],
   "source": [
    "data_orang = {\n",
    "    \"nama\" : \"Ketut Dogler\",\n",
    "    \"umur\" : 12,\n",
    "    \"apakah_singel\" : False\n",
    "}"
   ]
  },
  {
   "cell_type": "code",
   "execution_count": 2,
   "id": "aba82e51",
   "metadata": {},
   "outputs": [
    {
     "name": "stdout",
     "output_type": "stream",
     "text": [
      "Ketut Dogler\n"
     ]
    }
   ],
   "source": [
    "print(data_orang['nama'])"
   ]
  },
  {
   "cell_type": "code",
   "execution_count": 3,
   "id": "dbeb110c",
   "metadata": {},
   "outputs": [
    {
     "ename": "KeyError",
     "evalue": "'Nama'",
     "output_type": "error",
     "traceback": [
      "\u001b[1;31m---------------------------------------------------------------------------\u001b[0m",
      "\u001b[1;31mKeyError\u001b[0m                                  Traceback (most recent call last)",
      "\u001b[1;32m~\\AppData\\Local\\Temp\\ipykernel_28284\\4255415106.py\u001b[0m in \u001b[0;36m<module>\u001b[1;34m\u001b[0m\n\u001b[1;32m----> 1\u001b[1;33m \u001b[0mprint\u001b[0m\u001b[1;33m(\u001b[0m\u001b[0mdata_orang\u001b[0m\u001b[1;33m[\u001b[0m\u001b[1;34m'Nama'\u001b[0m\u001b[1;33m]\u001b[0m\u001b[1;33m)\u001b[0m\u001b[1;33m\u001b[0m\u001b[1;33m\u001b[0m\u001b[0m\n\u001b[0m\u001b[0;32m      2\u001b[0m \u001b[1;31m#akan eror karena seharusnya 'nama' bukan 'Nama'\u001b[0m\u001b[1;33m\u001b[0m\u001b[1;33m\u001b[0m\u001b[0m\n",
      "\u001b[1;31mKeyError\u001b[0m: 'Nama'"
     ]
    }
   ],
   "source": [
    "print(data_orang['Nama'])\n",
    "#akan eror karena seharusnya 'nama' bukan 'Nama'"
   ]
  },
  {
   "cell_type": "code",
   "execution_count": 4,
   "id": "af0b4d65",
   "metadata": {},
   "outputs": [
    {
     "name": "stdout",
     "output_type": "stream",
     "text": [
      "Ketut Dogler\n"
     ]
    }
   ],
   "source": [
    "print(data_orang.get('nama'))"
   ]
  },
  {
   "cell_type": "code",
   "execution_count": 5,
   "id": "0bacd3fa",
   "metadata": {},
   "outputs": [
    {
     "name": "stdout",
     "output_type": "stream",
     "text": [
      "None\n"
     ]
    }
   ],
   "source": [
    "print(data_orang.get('Nama'))\n",
    "#tidak ada 'Nama', yang ada 'nama'"
   ]
  },
  {
   "cell_type": "code",
   "execution_count": 6,
   "id": "f36bba99",
   "metadata": {},
   "outputs": [
    {
     "name": "stdout",
     "output_type": "stream",
     "text": [
      "None\n"
     ]
    }
   ],
   "source": [
    "print(data_orang.get('tanggal_lahir'))"
   ]
  },
  {
   "cell_type": "code",
   "execution_count": 7,
   "id": "7ff31d9a",
   "metadata": {
    "scrolled": false
   },
   "outputs": [
    {
     "name": "stdout",
     "output_type": "stream",
     "text": [
      "2-2-2010\n"
     ]
    }
   ],
   "source": [
    "print(data_orang.get('tanggal_lahir', '2-2-2010'))\n",
    "#tidak merubah elemen data_orang, hanya menambahkan saja tapi tidak merubah matrik"
   ]
  },
  {
   "cell_type": "code",
   "execution_count": 8,
   "id": "9426d632",
   "metadata": {},
   "outputs": [
    {
     "ename": "KeyError",
     "evalue": "'tanggal_lahir'",
     "output_type": "error",
     "traceback": [
      "\u001b[1;31m---------------------------------------------------------------------------\u001b[0m",
      "\u001b[1;31mKeyError\u001b[0m                                  Traceback (most recent call last)",
      "\u001b[1;32m~\\AppData\\Local\\Temp\\ipykernel_28284\\2649650977.py\u001b[0m in \u001b[0;36m<module>\u001b[1;34m\u001b[0m\n\u001b[1;32m----> 1\u001b[1;33m \u001b[0mprint\u001b[0m\u001b[1;33m(\u001b[0m\u001b[0mdata_orang\u001b[0m\u001b[1;33m[\u001b[0m\u001b[1;34m'tanggal_lahir'\u001b[0m\u001b[1;33m]\u001b[0m\u001b[1;33m)\u001b[0m\u001b[1;33m\u001b[0m\u001b[1;33m\u001b[0m\u001b[0m\n\u001b[0m\u001b[0;32m      2\u001b[0m \u001b[1;31m#karena sebelumnya tidak merubah elemen data_orang, hanya menambahkan saja tapi tidak merubah matrik\u001b[0m\u001b[1;33m\u001b[0m\u001b[1;33m\u001b[0m\u001b[0m\n",
      "\u001b[1;31mKeyError\u001b[0m: 'tanggal_lahir'"
     ]
    }
   ],
   "source": [
    "print(data_orang['tanggal_lahir'])\n",
    "#karena sebelumnya tidak merubah elemen data_orang, hanya menambahkan saja tapi tidak merubah matrik"
   ]
  },
  {
   "cell_type": "code",
   "execution_count": 16,
   "id": "fbfae801",
   "metadata": {},
   "outputs": [],
   "source": [
    "#seharusnya jika ingin menambahkan elemen ke matrik, cara yang benar adalah sebagai berikut\n",
    "data_orang['tanggal_lahir'] = '2-2-2010'"
   ]
  },
  {
   "cell_type": "code",
   "execution_count": 17,
   "id": "93a11713",
   "metadata": {},
   "outputs": [
    {
     "name": "stdout",
     "output_type": "stream",
     "text": [
      "2-2-2010\n"
     ]
    }
   ],
   "source": [
    "print(data_orang[\"tanggal_lahir\"])\n",
    "#sehingga tidak menyebabkan error"
   ]
  },
  {
   "cell_type": "code",
   "execution_count": 11,
   "id": "f537776a",
   "metadata": {},
   "outputs": [
    {
     "name": "stdout",
     "output_type": "stream",
     "text": [
      "{'nama': 'Ketut Dogler', 'umur': 12, 'apakah_singel': False, 'tanggal_lahir': '2-2-2010'}\n"
     ]
    }
   ],
   "source": [
    "print(data_orang)"
   ]
  },
  {
   "cell_type": "code",
   "execution_count": 12,
   "id": "010df79b",
   "metadata": {},
   "outputs": [
    {
     "name": "stdout",
     "output_type": "stream",
     "text": [
      "2-2-2010\n"
     ]
    }
   ],
   "source": [
    "print(data_orang['tanggal_lahir'])\n",
    "#akan error karena 'tanggal_lahir' tidak ada di 'data_orang'"
   ]
  },
  {
   "cell_type": "code",
   "execution_count": 13,
   "id": "0320e416",
   "metadata": {},
   "outputs": [],
   "source": [
    "data_orang['HP'] = '08123456789'"
   ]
  },
  {
   "cell_type": "code",
   "execution_count": 14,
   "id": "63fd882b",
   "metadata": {},
   "outputs": [
    {
     "name": "stdout",
     "output_type": "stream",
     "text": [
      "08123456789\n"
     ]
    }
   ],
   "source": [
    "print(data_orang[\"HP\"])"
   ]
  },
  {
   "cell_type": "code",
   "execution_count": 15,
   "id": "85733a48",
   "metadata": {
    "scrolled": true
   },
   "outputs": [
    {
     "name": "stdout",
     "output_type": "stream",
     "text": [
      "{'nama': 'Ketut Dogler', 'umur': 12, 'apakah_singel': False, 'tanggal_lahir': '2-2-2010', 'HP': '08123456789'}\n"
     ]
    }
   ],
   "source": [
    "print(data_orang)"
   ]
  },
  {
   "cell_type": "markdown",
   "id": "a9ac6e0a",
   "metadata": {},
   "source": [
    "Buatlah program untuk merubah nomor HP yang tadinya berupa angka menjadi sebutan bilangan tersebut. Misalnya angka 0812 akan menjadi 18 nol delapan satu dua.\n",
    "\n",
    "Jawaban:"
   ]
  },
  {
   "cell_type": "code",
   "execution_count": 1,
   "id": "f0b7f674",
   "metadata": {},
   "outputs": [],
   "source": [
    "angka = {\n",
    "    \"0\" : \"nol\",\n",
    "    \"1\" : \"satu\",\n",
    "    \"2\" : \"dua\",\n",
    "    \"3\" : \"tiga\",\n",
    "    \"4\" : \"empat\",\n",
    "    \"5\" : \"lima\",\n",
    "    \"6\" : \"enam\",\n",
    "    \"7\" : \"tujuh\",\n",
    "    \"8\" : \"delapan\",\n",
    "    \"9\" : \"sembilan\"\n",
    "}"
   ]
  },
  {
   "cell_type": "code",
   "execution_count": 2,
   "id": "af99b1b9",
   "metadata": {},
   "outputs": [
    {
     "name": "stdout",
     "output_type": "stream",
     "text": [
      "Masukkan nomor HP anda 081081081\n",
      "nol delapan satu nol delapan satu nol delapan satu \n"
     ]
    }
   ],
   "source": [
    "nomor_HP = input(\"Masukkan nomor HP anda \")\n",
    "nomor_angka = \"\"\n",
    "for isi in nomor_HP:\n",
    "    nomor_angka += angka.get(isi) + \" \"\n",
    "print(nomor_angka)"
   ]
  },
  {
   "cell_type": "markdown",
   "id": "1ef7bd08",
   "metadata": {},
   "source": [
    "# Fungsi dalam Python"
   ]
  },
  {
   "cell_type": "raw",
   "id": "67fbbe8d",
   "metadata": {},
   "source": [
    "Sampai sejauh ini tanpa disadari kita telah menerapkan beberapa jenis fungsi pada Python seperti fungsi input, print, len, range, dll. Pada dasarnya fungsi dibentuk untuk menghidari pengulangan pembuatan program secara manual dimana fungsi tersebut memiliki pengulangan yang tinggi dalam program yang kita buat. Jadi untuk mempermudah dan meringkas program yang kita buat, setiap fungsi tersebut dibutuhkan tinggal kita panggil."
   ]
  },
  {
   "cell_type": "code",
   "execution_count": 11,
   "id": "9e694f0e",
   "metadata": {},
   "outputs": [],
   "source": [
    "def full_nama(first_name,last_name):\n",
    "    print(f\"Nama lengkapnya adalah {first_name} {last_name}\")"
   ]
  },
  {
   "cell_type": "code",
   "execution_count": 13,
   "id": "1fdc6bdf",
   "metadata": {
    "scrolled": true
   },
   "outputs": [
    {
     "name": "stdout",
     "output_type": "stream",
     "text": [
      "Nama depan anda adalah yuni\n",
      "Nama belakang anda adalah antari\n",
      "Nama lengkapnya adalah yuni antari\n"
     ]
    }
   ],
   "source": [
    "first_name = input(\"Nama depan anda adalah \")\n",
    "last_name = input(\"Nama belakang anda adalah \")\n",
    "full_nama(first_name, last_name)"
   ]
  },
  {
   "cell_type": "markdown",
   "id": "2fde56e5",
   "metadata": {},
   "source": [
    "### tugas fungsi pada python"
   ]
  },
  {
   "cell_type": "code",
   "execution_count": 1,
   "id": "2e7bfe3c",
   "metadata": {},
   "outputs": [],
   "source": [
    "def waktu_sampai(jarak,kecepatan):\n",
    "    waktu = jarak/kecepatan\n",
    "    return(waktu)"
   ]
  },
  {
   "cell_type": "code",
   "execution_count": 5,
   "id": "ac21b9a4",
   "metadata": {},
   "outputs": [],
   "source": [
    "def waktu_tempuh(jarak,kecepatan):\n",
    "    waktu = jarak/kecepatan\n",
    "    return(waktu)"
   ]
  },
  {
   "cell_type": "code",
   "execution_count": 6,
   "id": "77ce5417",
   "metadata": {},
   "outputs": [
    {
     "name": "stdout",
     "output_type": "stream",
     "text": [
      "1.3333333333333333\n"
     ]
    }
   ],
   "source": [
    "waktu_sampai(80,60)"
   ]
  },
  {
   "cell_type": "code",
   "execution_count": 7,
   "id": "b21c2743",
   "metadata": {},
   "outputs": [
    {
     "data": {
      "text/plain": [
       "1.3333333333333333"
      ]
     },
     "execution_count": 7,
     "metadata": {},
     "output_type": "execute_result"
    }
   ],
   "source": [
    "waktu_tempuh(80,60)"
   ]
  },
  {
   "cell_type": "code",
   "execution_count": 2,
   "id": "5b3c0908",
   "metadata": {},
   "outputs": [
    {
     "name": "stdout",
     "output_type": "stream",
     "text": [
      "1.3333333333333333\n"
     ]
    }
   ],
   "source": [
    "a = waktu_sampai(80,60)\n",
    "print(a)"
   ]
  },
  {
   "cell_type": "code",
   "execution_count": 20,
   "id": "02b1b0c4",
   "metadata": {},
   "outputs": [
    {
     "name": "stdout",
     "output_type": "stream",
     "text": [
      "1.3333333333333333\n"
     ]
    }
   ],
   "source": [
    "b = waktu_tempuh(80,60)\n",
    "print(b)"
   ]
  },
  {
   "cell_type": "markdown",
   "id": "6740fadc",
   "metadata": {},
   "source": [
    "#### Latihan"
   ]
  },
  {
   "cell_type": "code",
   "execution_count": 11,
   "id": "e265f173",
   "metadata": {},
   "outputs": [],
   "source": [
    "import numpy as np"
   ]
  },
  {
   "cell_type": "code",
   "execution_count": 1,
   "id": "f82cb024",
   "metadata": {},
   "outputs": [],
   "source": [
    "def luas_segitiga(alas,tinggi):\n",
    "    luas = (1/2)*alas*tinggo\n",
    "    return luas\n",
    "def luas_lingkaran(jari_jari):\n",
    "    luas = np.pi*(jari-jari**2)\n",
    "    return luas\n",
    "def luas_persegi(sisi):\n",
    "    luas = sisi**2\n",
    "    return luas\n",
    "def luas_persegi_panjang(panjang,lebar):\n",
    "    luas = panjang*lebar\n",
    "    return luas"
   ]
  },
  {
   "cell_type": "markdown",
   "id": "7efbd407",
   "metadata": {},
   "source": [
    "#### jawaban latihan"
   ]
  },
  {
   "cell_type": "code",
   "execution_count": null,
   "id": "0832c179",
   "metadata": {},
   "outputs": [],
   "source": [
    "jenis_bidang = input('Tulis jenis bidangnya ')\n",
    "if jenis_bidang.upper() == 'SEGITIGA':\n",
    "    alas = float(input('Berapakah panjang alasnya? '))\n",
    "    tinggi = float(input('Berapakah tingginya? '))\n",
    "    luas = luas_segitiga(alas, tinggi)\n",
    "    print(f\"Luas {jenis_bidang} adalah {luas}\")\n",
    "elif jenis_bidang.upper() == 'LINGKARAN':\n",
    "    jari_jari = float(input('Berapakah panjang jari-jarinya? '))\n",
    "    luas = luas_lingkaran(jari_jari)\n",
    "    print(f\"Luas {jenis_bidag} adalah {luas}\")\n",
    "elif (jenis_bidang.upper() == 'PERSEGI') or (jenis_bidang.upper() == 'BUJUR SANGKAR'):\n",
    "    sisi = float(input('Berapakah panjang sisinya? '))\n",
    "    luas = luas_persegi(sisi)\n",
    "    print(f\"Luas {jenis_bidag} adalah {luas}\")\n",
    "elif jenis_bidang.upper() == 'PERSEGI PANJANG':\n",
    "    panjang = float(input('Berapakah panjangnya? '))\n",
    "    lebar = float(input('Berapakah lebarnya? '))\n",
    "    luas = luas_persegi_panjang(panjang,lebar)\n",
    "    print(f\"Luas {jenis_bidag} adalah {luas}\")\n",
    "else:\n",
    "    print(f\"Maaf bidang {jenis_bidang} yang anda masukkan tidak ada.\")\n",
    "    print(\"Pilihan cuma SEGITIGA, LINGKARAN, PERSEGI dan PERSEGI PANJANG.\")\n",
    "    print('Terima kasih')"
   ]
  },
  {
   "cell_type": "markdown",
   "id": "650b0763",
   "metadata": {},
   "source": [
    "# Numpy"
   ]
  },
  {
   "cell_type": "raw",
   "id": "2012d535",
   "metadata": {},
   "source": [
    "Numpy merupakan salah satu Library dalam Python yang memiliki keunggulan dalam perhitungan menggunakan vektor dan matrik dalam berbagai dimensi. Hal pertama yang perlu dilakukan adalah memanggil Library Numpy sebagai berikut:"
   ]
  },
  {
   "cell_type": "code",
   "execution_count": 2,
   "id": "edd15263",
   "metadata": {},
   "outputs": [],
   "source": [
    "import pandas as pd"
   ]
  },
  {
   "cell_type": "code",
   "execution_count": 9,
   "id": "2535aebe",
   "metadata": {},
   "outputs": [],
   "source": [
    "#mengcek numpy sudah terinstal atau belum\n",
    "#numpy lebih enak dari list, bentuk lebih terlihat\n",
    "import numpy"
   ]
  }
 ],
 "metadata": {
  "kernelspec": {
   "display_name": "Python 3 (ipykernel)",
   "language": "python",
   "name": "python3"
  },
  "language_info": {
   "codemirror_mode": {
    "name": "ipython",
    "version": 3
   },
   "file_extension": ".py",
   "mimetype": "text/x-python",
   "name": "python",
   "nbconvert_exporter": "python",
   "pygments_lexer": "ipython3",
   "version": "3.9.13"
  }
 },
 "nbformat": 4,
 "nbformat_minor": 5
}
