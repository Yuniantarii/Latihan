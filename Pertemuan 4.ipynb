{
 "cells": [
  {
   "cell_type": "markdown",
   "id": "13127b4e",
   "metadata": {},
   "source": [
    "## While Loop"
   ]
  },
  {
   "cell_type": "code",
   "execution_count": 12,
   "id": "379788f6",
   "metadata": {},
   "outputs": [
    {
     "name": "stdout",
     "output_type": "stream",
     "text": [
      "Angka 0 masih di bawah 5\n",
      "Angka 1 masih di bawah 5\n",
      "Angka 2 masih di bawah 5\n",
      "Angka 3 masih di bawah 5\n",
      "Angka 4 masih di bawah 5\n"
     ]
    }
   ],
   "source": [
    "a = 0\n",
    "while a < 5:\n",
    "    print(\"Angka \" + str(a)+\" masih di bawah 5\")\n",
    "    a += 1"
   ]
  },
  {
   "cell_type": "code",
   "execution_count": 9,
   "id": "207a3ca0",
   "metadata": {},
   "outputs": [
    {
     "name": "stdout",
     "output_type": "stream",
     "text": [
      "Angka 11 diantara 10 dan 15\n",
      "Angka 12 diantara 10 dan 15\n",
      "Angka 13 diantara 10 dan 15\n",
      "Angka 14 diantara 10 dan 15\n"
     ]
    }
   ],
   "source": [
    "a = 11\n",
    "while a < 15 and a > 10:\n",
    "    print(\"Angka \" + str(a) + \" diantara 10 dan 15\")\n",
    "    a += 1"
   ]
  },
  {
   "cell_type": "code",
   "execution_count": 7,
   "id": "9dfff1e8",
   "metadata": {},
   "outputs": [
    {
     "name": "stdout",
     "output_type": "stream",
     "text": [
      "\n",
      "*\n",
      "**\n",
      "***\n",
      "****\n",
      "*****\n",
      "******\n"
     ]
    }
   ],
   "source": [
    "a = 0\n",
    "while a < 7:\n",
    "    print(a* '*')\n",
    "    a += 1"
   ]
  },
  {
   "cell_type": "code",
   "execution_count": 4,
   "id": "2542d8f8",
   "metadata": {},
   "outputs": [
    {
     "name": "stdout",
     "output_type": "stream",
     "text": [
      "**\n",
      "****\n",
      "******\n",
      "********\n"
     ]
    }
   ],
   "source": [
    "a = 1\n",
    "while a < 5:\n",
    "    print(2*a* '*')\n",
    "    a += 1"
   ]
  },
  {
   "cell_type": "markdown",
   "id": "5274058e",
   "metadata": {},
   "source": [
    "# List di Python"
   ]
  },
  {
   "cell_type": "code",
   "execution_count": 2,
   "id": "b974bb80",
   "metadata": {
    "scrolled": true
   },
   "outputs": [
    {
     "name": "stdout",
     "output_type": "stream",
     "text": [
      "['mangga', 'pisang', 'rambutan', 'rambutan', 'durian']\n"
     ]
    }
   ],
   "source": [
    "buah = ['mangga', 'pisang','rambutan', 'rambutan', 'durian']\n",
    "print(buah)"
   ]
  },
  {
   "cell_type": "code",
   "execution_count": 3,
   "id": "a44e81b9",
   "metadata": {},
   "outputs": [
    {
     "name": "stdout",
     "output_type": "stream",
     "text": [
      "mangga\n"
     ]
    }
   ],
   "source": [
    "print(buah[0])"
   ]
  },
  {
   "cell_type": "markdown",
   "id": "37615147",
   "metadata": {},
   "source": [
    "## Metoda List"
   ]
  },
  {
   "cell_type": "code",
   "execution_count": 5,
   "id": "d8a8aa3e",
   "metadata": {},
   "outputs": [
    {
     "name": "stdout",
     "output_type": "stream",
     "text": [
      "['Made', 'Eka', 'Dwi', 'Sari']\n"
     ]
    }
   ],
   "source": [
    "nama = ['Made', 'Eka', 'Dwi']\n",
    "nama.append('Sari')\n",
    "print\n",
    "print(nama)"
   ]
  },
  {
   "cell_type": "code",
   "execution_count": 6,
   "id": "ccf3d1a1",
   "metadata": {},
   "outputs": [
    {
     "name": "stdout",
     "output_type": "stream",
     "text": [
      "['Dewi', 'Made', 'Eka', 'Dwi', 'Sari']\n"
     ]
    }
   ],
   "source": [
    "nama.insert(0, 'Dewi')\n",
    "print(nama)"
   ]
  },
  {
   "cell_type": "code",
   "execution_count": 7,
   "id": "d5225b28",
   "metadata": {},
   "outputs": [
    {
     "name": "stdout",
     "output_type": "stream",
     "text": [
      "['Dewi', 'Made', 'Dwi', 'Sari']\n"
     ]
    }
   ],
   "source": [
    "nama.remove('Eka')\n",
    "print(nama)"
   ]
  },
  {
   "cell_type": "code",
   "execution_count": 8,
   "id": "e20e5110",
   "metadata": {},
   "outputs": [
    {
     "name": "stdout",
     "output_type": "stream",
     "text": [
      "True\n"
     ]
    }
   ],
   "source": [
    "print('Dwi' in nama)"
   ]
  },
  {
   "cell_type": "code",
   "execution_count": 9,
   "id": "b5bf288f",
   "metadata": {},
   "outputs": [
    {
     "name": "stdout",
     "output_type": "stream",
     "text": [
      "False\n"
     ]
    }
   ],
   "source": [
    "print('Eka' in nama)"
   ]
  },
  {
   "cell_type": "code",
   "execution_count": 10,
   "id": "7b9333d1",
   "metadata": {},
   "outputs": [
    {
     "name": "stdout",
     "output_type": "stream",
     "text": [
      "4\n"
     ]
    }
   ],
   "source": [
    "print(len(nama))"
   ]
  },
  {
   "cell_type": "code",
   "execution_count": 3,
   "id": "9103179c",
   "metadata": {},
   "outputs": [
    {
     "name": "stdout",
     "output_type": "stream",
     "text": [
      "['1', '3', '7', '13', '9', '11']\n"
     ]
    }
   ],
   "source": [
    "bilangan_ganjil = ['1' , '3', '7', '9', '11']\n",
    "bilangan_ganjil.insert(3, '13')\n",
    "print(bilangan_ganjil)"
   ]
  },
  {
   "cell_type": "code",
   "execution_count": 9,
   "id": "c00d42c2",
   "metadata": {},
   "outputs": [
    {
     "name": "stdout",
     "output_type": "stream",
     "text": [
      "['1', '3', '7', '9', '13']\n"
     ]
    }
   ],
   "source": [
    "bilangan_ganjil.remove('11')\n",
    "print(bilangan_ganjil)"
   ]
  },
  {
   "cell_type": "code",
   "execution_count": 2,
   "id": "a88d7ac9",
   "metadata": {},
   "outputs": [
    {
     "name": "stdout",
     "output_type": "stream",
     "text": [
      "['1', '3', '7', '9', '11', '5']\n"
     ]
    }
   ],
   "source": [
    "bilangan_ganjil = ['1' , '3', '7', '9', '11']\n",
    "bilangan_ganjil.append('5')\n",
    "print(bilangan_ganjil)"
   ]
  },
  {
   "cell_type": "markdown",
   "id": "459c3f19",
   "metadata": {},
   "source": [
    "# for loop"
   ]
  },
  {
   "cell_type": "code",
   "execution_count": 1,
   "id": "d1d80bb2",
   "metadata": {},
   "outputs": [
    {
     "name": "stdout",
     "output_type": "stream",
     "text": [
      "manggis\n",
      "durian\n",
      "salak\n",
      "jeruk\n"
     ]
    }
   ],
   "source": [
    "buah = ['manggis', 'durian', 'salak', 'jeruk']\n",
    "for jenis in buah:\n",
    "    print(jenis)"
   ]
  },
  {
   "cell_type": "code",
   "execution_count": 2,
   "id": "22171931",
   "metadata": {},
   "outputs": [
    {
     "name": "stdout",
     "output_type": "stream",
     "text": [
      "manggis\n",
      "durian\n",
      "salak\n",
      "jeruk\n"
     ]
    }
   ],
   "source": [
    "buah = ['manggis', 'durian', 'salak', 'jeruk']\n",
    "i = 0\n",
    "while i < len(buah):\n",
    "    print(buah[i])\n",
    "    i+=1"
   ]
  },
  {
   "cell_type": "code",
   "execution_count": 2,
   "id": "8986bb33",
   "metadata": {},
   "outputs": [
    {
     "name": "stdout",
     "output_type": "stream",
     "text": [
      "3\n",
      "7\n",
      "11\n"
     ]
    }
   ],
   "source": [
    "bilangan_prima = ['3', '7', '11']\n",
    "for ganjil in bilangan_prima:\n",
    "    print(ganjil)"
   ]
  },
  {
   "cell_type": "code",
   "execution_count": 3,
   "id": "fa28b99b",
   "metadata": {
    "scrolled": true
   },
   "outputs": [
    {
     "name": "stdout",
     "output_type": "stream",
     "text": [
      "3\n",
      "7\n",
      "11\n"
     ]
    }
   ],
   "source": [
    "x = 0\n",
    "while x < len(bilangan_prima):\n",
    "    print(bilangan_prima[x])\n",
    "    x+=1\n",
    "#kalau terus mau restart harus restart dari pendeskripsian bilangan_prima yang paling awal (di atasnya)"
   ]
  },
  {
   "cell_type": "markdown",
   "id": "8dc753a1",
   "metadata": {},
   "source": [
    "# Fungsi Range"
   ]
  },
  {
   "cell_type": "code",
   "execution_count": 6,
   "id": "7639746a",
   "metadata": {},
   "outputs": [
    {
     "name": "stdout",
     "output_type": "stream",
     "text": [
      "range(0, 5)\n"
     ]
    }
   ],
   "source": [
    "angka = range(5)\n",
    "print(angka)"
   ]
  },
  {
   "cell_type": "code",
   "execution_count": 7,
   "id": "b68ec52e",
   "metadata": {},
   "outputs": [
    {
     "name": "stdout",
     "output_type": "stream",
     "text": [
      "0\n",
      "1\n",
      "2\n",
      "3\n",
      "4\n"
     ]
    }
   ],
   "source": [
    "for isi in angka:\n",
    "    print(isi)"
   ]
  },
  {
   "cell_type": "code",
   "execution_count": 5,
   "id": "705e41a6",
   "metadata": {},
   "outputs": [
    {
     "name": "stdout",
     "output_type": "stream",
     "text": [
      "5\n",
      "6\n",
      "7\n",
      "8\n",
      "9\n"
     ]
    }
   ],
   "source": [
    "for isi in range (5, 10):\n",
    "    print(isi)"
   ]
  },
  {
   "cell_type": "code",
   "execution_count": 6,
   "id": "00cafd44",
   "metadata": {},
   "outputs": [
    {
     "name": "stdout",
     "output_type": "stream",
     "text": [
      "0\n",
      "2\n",
      "4\n",
      "6\n",
      "8\n"
     ]
    }
   ],
   "source": [
    "for isi in range (0, 10, 2):\n",
    "    print(isi)"
   ]
  },
  {
   "cell_type": "code",
   "execution_count": 1,
   "id": "80f01c2f",
   "metadata": {},
   "outputs": [
    {
     "name": "stdout",
     "output_type": "stream",
     "text": [
      "5\n",
      "8\n",
      "11\n"
     ]
    }
   ],
   "source": [
    "for isi in range (5, 13, 3):\n",
    "    print(isi)"
   ]
  },
  {
   "cell_type": "code",
   "execution_count": 2,
   "id": "3492f19b",
   "metadata": {},
   "outputs": [
    {
     "name": "stdout",
     "output_type": "stream",
     "text": [
      "3\n",
      "4\n",
      "5\n",
      "6\n"
     ]
    }
   ],
   "source": [
    "for isi in range(3,7):\n",
    "    print(isi)"
   ]
  },
  {
   "cell_type": "code",
   "execution_count": 5,
   "id": "0e075f3d",
   "metadata": {},
   "outputs": [
    {
     "name": "stdout",
     "output_type": "stream",
     "text": [
      "range(0, 4)\n"
     ]
    }
   ],
   "source": [
    "laptop = range(4)\n",
    "print(laptop)"
   ]
  },
  {
   "cell_type": "code",
   "execution_count": 8,
   "id": "dc246be9",
   "metadata": {},
   "outputs": [
    {
     "name": "stdout",
     "output_type": "stream",
     "text": [
      "Masukkan Nilai x: 8\n",
      "********\n",
      " *******\n",
      "  ******\n",
      "   *****\n",
      "    ****\n",
      "     ***\n",
      "      **\n",
      "       *\n",
      "Masukkan Nilai x: 8\n",
      "         *\n",
      "        **\n",
      "       ***\n",
      "      ****\n",
      "     *****\n",
      "    ******\n",
      "   *******\n",
      "  ********\n"
     ]
    }
   ],
   "source": [
    "x = int(input('Masukkan Nilai x: '))\n",
    "for i in range (0,x):\n",
    "    for j in range (0, i):\n",
    "        print(' ' , end='')\n",
    "    for k in range (0,x):\n",
    "        print('*' , end='')\n",
    "    x-=1\n",
    "    print('')\n",
    "x = int(input('Masukkan Nilai x: '))\n",
    "for i in range (0,x):\n",
    "    for j in range (0, x+1):\n",
    "        print(' ' , end='')\n",
    "    for k in range (0, i+1):\n",
    "        print('*' , end='')\n",
    "    x-=1\n",
    "    print('')"
   ]
  },
  {
   "cell_type": "code",
   "execution_count": null,
   "id": "394b9d67",
   "metadata": {},
   "outputs": [],
   "source": []
  }
 ],
 "metadata": {
  "kernelspec": {
   "display_name": "Python 3 (ipykernel)",
   "language": "python",
   "name": "python3"
  },
  "language_info": {
   "codemirror_mode": {
    "name": "ipython",
    "version": 3
   },
   "file_extension": ".py",
   "mimetype": "text/x-python",
   "name": "python",
   "nbconvert_exporter": "python",
   "pygments_lexer": "ipython3",
   "version": "3.9.13"
  }
 },
 "nbformat": 4,
 "nbformat_minor": 5
}
